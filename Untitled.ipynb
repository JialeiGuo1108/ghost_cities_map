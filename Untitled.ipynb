{
 "cells": [
  {
   "cell_type": "code",
   "execution_count": 6,
   "id": "7a42a167-75ab-486f-9479-625939a54b9c",
   "metadata": {},
   "outputs": [],
   "source": [
    "import pandas as pd\n",
    "import geopandas as gpd"
   ]
  },
  {
   "cell_type": "code",
   "execution_count": 7,
   "id": "6413a070-6908-44b0-b679-6eaaf9c4a49b",
   "metadata": {},
   "outputs": [],
   "source": [
    "ghost_cities=pd.read_csv(\"All the ghost cities‘ distribution.csv\", encoding=\"latin1\")"
   ]
  },
  {
   "cell_type": "code",
   "execution_count": 6,
   "id": "410d4abb-0b7c-4a69-b83a-2c156b626b4d",
   "metadata": {},
   "outputs": [
    {
     "data": {
      "text/html": [
       "<div>\n",
       "<style scoped>\n",
       "    .dataframe tbody tr th:only-of-type {\n",
       "        vertical-align: middle;\n",
       "    }\n",
       "\n",
       "    .dataframe tbody tr th {\n",
       "        vertical-align: top;\n",
       "    }\n",
       "\n",
       "    .dataframe thead th {\n",
       "        text-align: right;\n",
       "    }\n",
       "</style>\n",
       "<table border=\"1\" class=\"dataframe\">\n",
       "  <thead>\n",
       "    <tr style=\"text-align: right;\">\n",
       "      <th></th>\n",
       "      <th>old_cityID</th>\n",
       "      <th>X</th>\n",
       "      <th>Y</th>\n",
       "      <th>country</th>\n",
       "      <th>state</th>\n",
       "      <th>city</th>\n",
       "    </tr>\n",
       "  </thead>\n",
       "  <tbody>\n",
       "    <tr>\n",
       "      <th>0</th>\n",
       "      <td>22</td>\n",
       "      <td>131.064073</td>\n",
       "      <td>49.004520</td>\n",
       "      <td>Russia</td>\n",
       "      <td>Jewish Autonomous Oblast</td>\n",
       "      <td>Obluchye</td>\n",
       "    </tr>\n",
       "    <tr>\n",
       "      <th>1</th>\n",
       "      <td>67</td>\n",
       "      <td>129.386624</td>\n",
       "      <td>48.231630</td>\n",
       "      <td>China</td>\n",
       "      <td>Heilongjiang</td>\n",
       "      <td>Yichun</td>\n",
       "    </tr>\n",
       "    <tr>\n",
       "      <th>2</th>\n",
       "      <td>193</td>\n",
       "      <td>76.953562</td>\n",
       "      <td>62.984293</td>\n",
       "      <td>Russia</td>\n",
       "      <td>Yamalo-Nenets Autonomous Okrug</td>\n",
       "      <td>Vyngapurovskiy</td>\n",
       "    </tr>\n",
       "  </tbody>\n",
       "</table>\n",
       "</div>"
      ],
      "text/plain": [
       "   old_cityID           X          Y country                           state  \\\n",
       "0          22  131.064073  49.004520  Russia        Jewish Autonomous Oblast   \n",
       "1          67  129.386624  48.231630   China                    Heilongjiang   \n",
       "2         193   76.953562  62.984293  Russia  Yamalo-Nenets Autonomous Okrug   \n",
       "\n",
       "             city  \n",
       "0        Obluchye  \n",
       "1          Yichun  \n",
       "2  Vyngapurovskiy  "
      ]
     },
     "execution_count": 6,
     "metadata": {},
     "output_type": "execute_result"
    }
   ],
   "source": [
    "ghost_cities.head(3)"
   ]
  },
  {
   "cell_type": "code",
   "execution_count": 8,
   "id": "30a55786-ede9-40b4-b555-b5d9e222e7f8",
   "metadata": {},
   "outputs": [
    {
     "name": "stdout",
     "output_type": "stream",
     "text": [
      "32\n"
     ]
    }
   ],
   "source": [
    "# 按照国家统计数量\n",
    "country_counts = ghost_cities[\"country\"].value_counts().reset_index()\n",
    "\n",
    "# 显示结果\n",
    "print(len(country_counts))"
   ]
  },
  {
   "cell_type": "code",
   "execution_count": 9,
   "id": "c076dc15-63a2-4be2-83eb-211e1112112f",
   "metadata": {},
   "outputs": [],
   "source": [
    "world=gpd.read_file('ne_10m_admin_0_countries/ne_10m_admin_0_countries.shp')"
   ]
  },
  {
   "cell_type": "code",
   "execution_count": 11,
   "id": "9a4aa532-498c-4f96-8506-6ef4d77fc71e",
   "metadata": {},
   "outputs": [],
   "source": [
    "# 将 country_counts 和 world 数据按照 'country' 和 'SOVEREIGNT' 列连接\n",
    "merged = world.merge(country_counts, left_on='SOVEREIGNT', right_on='country', how='inner')"
   ]
  },
  {
   "cell_type": "code",
   "execution_count": 12,
   "id": "3cc35607-65b7-4ef2-b08b-af4cac1e7e42",
   "metadata": {},
   "outputs": [
    {
     "name": "stdout",
     "output_type": "stream",
     "text": [
      "49\n"
     ]
    }
   ],
   "source": [
    "print(len(merged))"
   ]
  },
  {
   "cell_type": "code",
   "execution_count": 13,
   "id": "2b9ac689-1fcd-43de-a952-517da85832eb",
   "metadata": {},
   "outputs": [
    {
     "data": {
      "text/plain": [
       "country\n",
       "France          9\n",
       "Australia       6\n",
       "New Zealand     3\n",
       "China           3\n",
       "Israel          2\n",
       "Kazakhstan      2\n",
       "Algeria         1\n",
       "Peru            1\n",
       "Malaysia        1\n",
       "Mexico          1\n",
       "Portugal        1\n",
       "Poland          1\n",
       "Russia          1\n",
       "South Africa    1\n",
       "Spain           1\n",
       "Ukraine         1\n",
       "Kyrgyzstan      1\n",
       "Japan           1\n",
       "Jordan          1\n",
       "Argentina       1\n",
       "Italy           1\n",
       "Iraq            1\n",
       "Iran            1\n",
       "India           1\n",
       "Colombia        1\n",
       "Canada          1\n",
       "Brazil          1\n",
       "Bolivia         1\n",
       "Belarus         1\n",
       "Uzbekistan      1\n",
       "dtype: int64"
      ]
     },
     "execution_count": 13,
     "metadata": {},
     "output_type": "execute_result"
    }
   ],
   "source": [
    "# 查看每个国家匹配了多少行\n",
    "merged.groupby('country').size().sort_values(ascending=False)"
   ]
  },
  {
   "cell_type": "code",
   "execution_count": 14,
   "id": "a1c32adc-f71c-4da3-bc16-7bb22c3b3b12",
   "metadata": {},
   "outputs": [
    {
     "data": {
      "text/html": [
       "<div>\n",
       "<style scoped>\n",
       "    .dataframe tbody tr th:only-of-type {\n",
       "        vertical-align: middle;\n",
       "    }\n",
       "\n",
       "    .dataframe tbody tr th {\n",
       "        vertical-align: top;\n",
       "    }\n",
       "\n",
       "    .dataframe thead th {\n",
       "        text-align: right;\n",
       "    }\n",
       "</style>\n",
       "<table border=\"1\" class=\"dataframe\">\n",
       "  <thead>\n",
       "    <tr style=\"text-align: right;\">\n",
       "      <th></th>\n",
       "      <th>featurecla</th>\n",
       "      <th>scalerank</th>\n",
       "      <th>LABELRANK</th>\n",
       "      <th>SOVEREIGNT</th>\n",
       "      <th>SOV_A3</th>\n",
       "      <th>ADM0_DIF</th>\n",
       "      <th>LEVEL</th>\n",
       "      <th>TYPE</th>\n",
       "      <th>TLC</th>\n",
       "      <th>ADMIN</th>\n",
       "      <th>...</th>\n",
       "      <th>FCLASS_PL</th>\n",
       "      <th>FCLASS_GR</th>\n",
       "      <th>FCLASS_IT</th>\n",
       "      <th>FCLASS_NL</th>\n",
       "      <th>FCLASS_SE</th>\n",
       "      <th>FCLASS_BD</th>\n",
       "      <th>FCLASS_UA</th>\n",
       "      <th>geometry</th>\n",
       "      <th>country</th>\n",
       "      <th>count</th>\n",
       "    </tr>\n",
       "  </thead>\n",
       "  <tbody>\n",
       "    <tr>\n",
       "      <th>0</th>\n",
       "      <td>Admin-0 country</td>\n",
       "      <td>0</td>\n",
       "      <td>3</td>\n",
       "      <td>Malaysia</td>\n",
       "      <td>MYS</td>\n",
       "      <td>0</td>\n",
       "      <td>2</td>\n",
       "      <td>Sovereign country</td>\n",
       "      <td>1</td>\n",
       "      <td>Malaysia</td>\n",
       "      <td>...</td>\n",
       "      <td>None</td>\n",
       "      <td>None</td>\n",
       "      <td>None</td>\n",
       "      <td>None</td>\n",
       "      <td>None</td>\n",
       "      <td>None</td>\n",
       "      <td>None</td>\n",
       "      <td>MULTIPOLYGON (((117.70361 4.16341, 117.69711 4...</td>\n",
       "      <td>Malaysia</td>\n",
       "      <td>1</td>\n",
       "    </tr>\n",
       "    <tr>\n",
       "      <th>1</th>\n",
       "      <td>Admin-0 country</td>\n",
       "      <td>0</td>\n",
       "      <td>3</td>\n",
       "      <td>Bolivia</td>\n",
       "      <td>BOL</td>\n",
       "      <td>0</td>\n",
       "      <td>2</td>\n",
       "      <td>Sovereign country</td>\n",
       "      <td>1</td>\n",
       "      <td>Bolivia</td>\n",
       "      <td>...</td>\n",
       "      <td>None</td>\n",
       "      <td>None</td>\n",
       "      <td>None</td>\n",
       "      <td>None</td>\n",
       "      <td>None</td>\n",
       "      <td>None</td>\n",
       "      <td>None</td>\n",
       "      <td>POLYGON ((-69.51009 -17.50659, -69.51009 -17.5...</td>\n",
       "      <td>Bolivia</td>\n",
       "      <td>1</td>\n",
       "    </tr>\n",
       "    <tr>\n",
       "      <th>2</th>\n",
       "      <td>Admin-0 country</td>\n",
       "      <td>0</td>\n",
       "      <td>2</td>\n",
       "      <td>Peru</td>\n",
       "      <td>PER</td>\n",
       "      <td>0</td>\n",
       "      <td>2</td>\n",
       "      <td>Sovereign country</td>\n",
       "      <td>1</td>\n",
       "      <td>Peru</td>\n",
       "      <td>...</td>\n",
       "      <td>None</td>\n",
       "      <td>None</td>\n",
       "      <td>None</td>\n",
       "      <td>None</td>\n",
       "      <td>None</td>\n",
       "      <td>None</td>\n",
       "      <td>None</td>\n",
       "      <td>MULTIPOLYGON (((-69.51009 -17.50659, -69.63832...</td>\n",
       "      <td>Peru</td>\n",
       "      <td>1</td>\n",
       "    </tr>\n",
       "  </tbody>\n",
       "</table>\n",
       "<p>3 rows × 171 columns</p>\n",
       "</div>"
      ],
      "text/plain": [
       "        featurecla  scalerank  LABELRANK SOVEREIGNT SOV_A3  ADM0_DIF  LEVEL  \\\n",
       "0  Admin-0 country          0          3   Malaysia    MYS         0      2   \n",
       "1  Admin-0 country          0          3    Bolivia    BOL         0      2   \n",
       "2  Admin-0 country          0          2       Peru    PER         0      2   \n",
       "\n",
       "                TYPE TLC     ADMIN  ... FCLASS_PL  FCLASS_GR FCLASS_IT  \\\n",
       "0  Sovereign country   1  Malaysia  ...      None       None      None   \n",
       "1  Sovereign country   1   Bolivia  ...      None       None      None   \n",
       "2  Sovereign country   1      Peru  ...      None       None      None   \n",
       "\n",
       "  FCLASS_NL  FCLASS_SE FCLASS_BD FCLASS_UA  \\\n",
       "0      None       None      None      None   \n",
       "1      None       None      None      None   \n",
       "2      None       None      None      None   \n",
       "\n",
       "                                            geometry   country count  \n",
       "0  MULTIPOLYGON (((117.70361 4.16341, 117.69711 4...  Malaysia     1  \n",
       "1  POLYGON ((-69.51009 -17.50659, -69.51009 -17.5...   Bolivia     1  \n",
       "2  MULTIPOLYGON (((-69.51009 -17.50659, -69.63832...      Peru     1  \n",
       "\n",
       "[3 rows x 171 columns]"
      ]
     },
     "execution_count": 14,
     "metadata": {},
     "output_type": "execute_result"
    }
   ],
   "source": [
    "merged.head(3)"
   ]
  },
  {
   "cell_type": "code",
   "execution_count": 22,
   "id": "488747ad-b313-4e6e-b265-bae391f6235c",
   "metadata": {},
   "outputs": [
    {
     "name": "stdout",
     "output_type": "stream",
     "text": [
      "         country                                           geometry  count\n",
      "0       Malaysia  MULTIPOLYGON (((117.70361 4.16341, 117.69711 4...      1\n",
      "1        Bolivia  POLYGON ((-69.51009 -17.50659, -69.51009 -17.5...      1\n",
      "2           Peru  MULTIPOLYGON (((-69.51009 -17.50659, -69.63832...      1\n",
      "3      Argentina  MULTIPOLYGON (((-67.1939 -22.82222, -67.14269 ...      2\n",
      "4          India  MULTIPOLYGON (((77.80035 35.49541, 77.81533 35...     13\n",
      "5          China  MULTIPOLYGON (((78.91769 33.38626, 78.91595 33...     53\n",
      "6         Israel  POLYGON ((34.24835 31.21145, 34.2644 31.22419,...      1\n",
      "7         Israel  MULTIPOLYGON (((34.4812 31.58314, 34.52013 31....      1\n",
      "8         France  MULTIPOLYGON (((-54.11153 2.11427, -54.13491 2...      4\n",
      "9        Ukraine  MULTIPOLYGON (((31.76434 52.10057, 31.82584 52...      2\n",
      "10       Belarus  POLYGON ((23.60624 51.5174, 23.60231 51.53078,...      1\n",
      "11  South Africa  MULTIPOLYGON (((19.98145 -24.75249, 19.98641 -...      3\n",
      "12        France  POLYGON ((-63.01757 18.03339, -63.08589 18.058...      4\n",
      "13    Uzbekistan  MULTIPOLYGON (((71.78552 39.9897, 71.78976 39....      2\n",
      "14    Kazakhstan  MULTIPOLYGON (((87.3238 49.08527, 87.20065 49....     10\n",
      "15        Brazil  MULTIPOLYGON (((-57.60279 -30.19052, -57.6117 ...      4\n",
      "16        Russia  MULTIPOLYGON (((87.81632 49.16584, 87.71638 49...     16\n",
      "17         Spain  MULTIPOLYGON (((-5.34073 35.84736, -5.3629 35....     15\n",
      "18    Kyrgyzstan  POLYGON ((80.21033 42.18952, 80.21653 42.1744,...      1\n",
      "19        Poland  POLYGON ((18.8332 49.51026, 18.83743 49.52695,...      6\n",
      "20          Iraq  POLYGON ((44.76614 37.14192, 44.75254 37.11314...      1\n",
      "21         Italy  MULTIPOLYGON (((7.02208 45.92526, 7.06694 45.8...     38\n",
      "22          Iran  MULTIPOLYGON (((44.80699 39.6399, 44.80965 39....      2\n",
      "23       Algeria  POLYGON ((-4.82161 24.99506, -4.99519 25.10209...      6\n",
      "24      Colombia  MULTIPOLYGON (((-78.82868 1.43431, -78.81286 1...      2\n",
      "25      Portugal  MULTIPOLYGON (((-7.10486 38.82719, -7.15101 38...      2\n",
      "26        Jordan  POLYGON ((35.61176 32.6819, 35.61233 32.68154,...      3\n",
      "27        Canada  MULTIPOLYGON (((-95.16057 49.36949, -95.16034 ...     27\n",
      "28        Mexico  MULTIPOLYGON (((-97.13927 25.96581, -97.16747 ...      1\n",
      "29         China  MULTIPOLYGON (((114.22983 22.55581, 114.23471 ...     53\n",
      "30    Kazakhstan  POLYGON ((63.38391 45.56582, 63.32428 45.56797...     10\n",
      "31     Australia  MULTIPOLYGON (((131.5359 -31.60556, 131.34555 ...      6\n",
      "32   New Zealand  MULTIPOLYGON (((166.13697 -50.86435, 166.20525...      2\n",
      "33        France  MULTIPOLYGON (((163.98512 -20.04762, 163.98609...      4\n",
      "34         Japan  MULTIPOLYGON (((129.78321 31.79963, 129.79086 ...      1\n",
      "35        France  MULTIPOLYGON (((-56.15095 46.79365, -56.15648 ...      4\n",
      "36        France  MULTIPOLYGON (((-136.16576 -22.02435, -136.175...      4\n",
      "37        France  MULTIPOLYGON (((42.7518 -17.0761, 42.72438 -17...      4\n",
      "38        France  POLYGON ((-62.83886 17.88198, -62.85094 17.890...      4\n",
      "39     Australia  POLYGON ((73.73512 -53.1124, 73.76189 -53.1189...      6\n",
      "40     Australia  MULTIPOLYGON (((96.86313 -12.18174, 96.8694 -1...      6\n",
      "41     Australia  POLYGON ((167.98414 -29.01784, 167.99635 -29.0...      6\n",
      "42   New Zealand  MULTIPOLYGON (((-157.93456 -21.87754, -157.921...      2\n",
      "43        France  MULTIPOLYGON (((-178.14232 -14.24358, -178.108...      4\n",
      "44   New Zealand  POLYGON ((-169.85114 -18.9651, -169.82531 -18....      2\n",
      "45     Australia  POLYGON ((154.39129 -21.03004, 154.38852 -21.0...      6\n",
      "46        France  POLYGON ((-109.21203 10.30268, -109.21036 10.2...      4\n",
      "47         China  MULTIPOLYGON (((113.5586 22.16303, 113.56943 2...     53\n",
      "48     Australia  POLYGON ((123.59702 -12.42832, 123.59775 -12.4...      6\n"
     ]
    }
   ],
   "source": [
    "country_counts_merged=merged[['country','geometry',  'count']]\n",
    "print(country_counts_merged)"
   ]
  },
  {
   "cell_type": "code",
   "execution_count": 16,
   "id": "245ff398-17ab-4cc8-b47c-d492707ab828",
   "metadata": {},
   "outputs": [
    {
     "name": "stdout",
     "output_type": "stream",
     "text": [
      "Updated CSV saved to: ghost_cities_by_country_with_coordinates.csv\n"
     ]
    }
   ],
   "source": [
    "# 保存带有地理坐标的新 CSV 文件\n",
    "output_path = \"ghost_cities_by_country_with_coordinates.csv\"\n",
    "country_counts_merged.to_csv(output_path, index=False)\n",
    "print(f\"Updated CSV saved to: {output_path}\")"
   ]
  },
  {
   "cell_type": "code",
   "execution_count": 21,
   "id": "bab75430-6879-4e44-bc34-596e9753bf14",
   "metadata": {},
   "outputs": [
    {
     "name": "stdout",
     "output_type": "stream",
     "text": [
      "GeoJSON 文件已成功保存！\n"
     ]
    }
   ],
   "source": [
    "# 将数据保存为 GeoJSON 文件\n",
    "country_counts_merged.to_file(\"country_counts.geojson\", driver=\"GeoJSON\")\n",
    "\n",
    "print(\"GeoJSON 文件已成功保存！\")"
   ]
  }
 ],
 "metadata": {
  "kernelspec": {
   "display_name": "Python (base)",
   "language": "python",
   "name": "base"
  },
  "language_info": {
   "codemirror_mode": {
    "name": "ipython",
    "version": 3
   },
   "file_extension": ".py",
   "mimetype": "text/x-python",
   "name": "python",
   "nbconvert_exporter": "python",
   "pygments_lexer": "ipython3",
   "version": "3.11.9"
  }
 },
 "nbformat": 4,
 "nbformat_minor": 5
}
